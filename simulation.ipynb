{
 "cells": [
  {
   "cell_type": "code",
   "execution_count": 3,
   "metadata": {},
   "outputs": [
    {
     "name": "stdout",
     "output_type": "stream",
     "text": [
      "----------\n",
      "Vorspung für Schnecke_0: 0\n",
      "Absolute Häufigkeit [1665, 1677, 1600, 1710, 1697, 1651]\n",
      "Relative Häufigkeit [16.65, 16.77, 16.0, 17.1, 16.97, 16.51]%\n",
      "----------\n",
      "Vorspung für Schnecke_0: 1\n",
      "Absolute Häufigkeit [2635, 1437, 1448, 1500, 1483, 1497]\n",
      "Relative Häufigkeit [26.35, 14.37, 14.48, 15.0, 14.83, 14.97]%\n",
      "----------\n",
      "Vorspung für Schnecke_0: 2\n",
      "Absolute Häufigkeit [3907, 1227, 1237, 1244, 1200, 1185]\n",
      "Relative Häufigkeit [39.07, 12.27, 12.37, 12.44, 12.0, 11.85]%\n",
      "----------\n",
      "Vorspung für Schnecke_0: 3\n",
      "Absolute Häufigkeit [5375, 919, 933, 929, 983, 861]\n",
      "Relative Häufigkeit [53.75, 9.19, 9.33, 9.29, 9.83, 8.61]%\n",
      "----------\n",
      "Vorspung für Schnecke_0: 4\n",
      "Absolute Häufigkeit [6897, 618, 590, 644, 645, 606]\n",
      "Relative Häufigkeit [68.97, 6.18, 5.9, 6.44, 6.45, 6.06]%\n",
      "----------\n",
      "Vorspung für Schnecke_0: 5\n",
      "Absolute Häufigkeit [8369, 311, 326, 330, 312, 352]\n",
      "Relative Häufigkeit [83.69, 3.11, 3.26, 3.3, 3.12, 3.52]%\n",
      "----------\n",
      "Vorspung für Schnecke_0: 6\n",
      "Absolute Häufigkeit [9311, 168, 127, 110, 147, 137]\n",
      "Relative Häufigkeit [93.11, 1.68, 1.27, 1.1, 1.47, 1.37]%\n",
      "----------\n",
      "Vorspung für Schnecke_0: 7\n",
      "Absolute Häufigkeit [9860, 25, 28, 31, 39, 17]\n",
      "Relative Häufigkeit [98.6, 0.25, 0.28, 0.31, 0.39, 0.17]%\n",
      "----------\n",
      "Vorspung für Schnecke_0: 8\n",
      "Absolute Häufigkeit [10000, 0, 0, 0, 0, 0]\n",
      "Relative Häufigkeit [100.0, 0.0, 0.0, 0.0, 0.0, 0.0]%\n"
     ]
    }
   ],
   "source": [
    "!python main.py"
   ]
  }
 ],
 "metadata": {
  "kernelspec": {
   "display_name": "env",
   "language": "python",
   "name": "python3"
  },
  "language_info": {
   "codemirror_mode": {
    "name": "ipython",
    "version": 3
   },
   "file_extension": ".py",
   "mimetype": "text/x-python",
   "name": "python",
   "nbconvert_exporter": "python",
   "pygments_lexer": "ipython3",
   "version": "3.11.10"
  }
 },
 "nbformat": 4,
 "nbformat_minor": 2
}
